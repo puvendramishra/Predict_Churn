{
 "cells": [
  {
   "cell_type": "markdown",
   "metadata": {},
   "source": [
    "# Telecommunication Customer Churn Prediction\n",
    "\n",
    "###  Exploratory Data Analysis\n",
    "###  Feature Enigineering \n",
    "###  Finding Insights\n",
    "###  Model Buliding\n",
    "###  Hyperparameters-tunning Model\n",
    "###  Comparison of Predictive Models"
   ]
  },
  {
   "cell_type": "markdown",
   "metadata": {},
   "source": [
    "#### Summary of the insights that is obtained from this analysis:\n",
    "\n",
    "1. The overall number of customers those have churned is 48.6% (2287), while the customers who remained with comapny are 51.4% (2421).\n",
    "2. Average delay in payment for customers who are 19 days, and for those who did not churn are 9 days.\n",
    "3. Customer churning increase after 15 days delay in payment.\n",
    "4. Customer churn and delay in payment are 46% possitively correlated.\n",
    "5. Maximum number of customer complaints are about billing problem and call quality.\n",
    "6. The churn rate is very high for customer with call quality complaint.\n",
    "7. Customer in the gold plan type tends to churn more.\n",
    "8. In the first 15-20 days of opening an account, the rate of customer churn increases; while, after crossing 20 days, the churn rate declines. \n",
    "9. The most important features for predicting churn of customers are Avg_Payment_Delays_Days, MOM_Percent_Increase, Avg_Calls_Weekdays, Last_Bill_Amt, Avg_Total_Calls, Complaint_Type and Account_Age.\n"
   ]
  },
  {
   "cell_type": "code",
   "execution_count": 1,
   "metadata": {},
   "outputs": [],
   "source": [
    "# import the necessary packages\n",
    "\n",
    "import pandas as pd\n",
    "import numpy as np\n",
    "import matplotlib.pyplot as plt\n",
    "%matplotlib inline \n",
    "import seaborn as sns\n",
    "\n",
    "from sklearn import preprocessing\n",
    "from sklearn.model_selection import train_test_split\n",
    "from sklearn.model_selection import GridSearchCV\n",
    "from sklearn.model_selection import StratifiedKFold\n",
    "\n",
    "from sklearn.ensemble import RandomForestClassifier\n",
    "from sklearn.tree import DecisionTreeClassifier\n",
    "from sklearn.linear_model import LogisticRegression\n",
    "\n",
    "from sklearn import metrics\n",
    "from sklearn.metrics import classification_report,confusion_matrix,accuracy_score\n",
    "from sklearn.metrics import roc_curve,auc"
   ]
  },
  {
   "cell_type": "code",
   "execution_count": 2,
   "metadata": {},
   "outputs": [],
   "source": [
    "# Removes Warnings\n",
    "\n",
    "import warnings\n",
    "warnings.filterwarnings('ignore')"
   ]
  },
  {
   "cell_type": "code",
   "execution_count": 3,
   "metadata": {},
   "outputs": [
    {
     "data": {
      "text/html": [
       "<div>\n",
       "<style scoped>\n",
       "    .dataframe tbody tr th:only-of-type {\n",
       "        vertical-align: middle;\n",
       "    }\n",
       "\n",
       "    .dataframe tbody tr th {\n",
       "        vertical-align: top;\n",
       "    }\n",
       "\n",
       "    .dataframe thead th {\n",
       "        text-align: right;\n",
       "    }\n",
       "</style>\n",
       "<table border=\"1\" class=\"dataframe\">\n",
       "  <thead>\n",
       "    <tr style=\"text-align: right;\">\n",
       "      <th></th>\n",
       "      <th>Churn</th>\n",
       "      <th>Churn Code</th>\n",
       "      <th>Last Bill Amt</th>\n",
       "      <th>Avg Total Calls</th>\n",
       "      <th>Avg Calls Weekdays</th>\n",
       "      <th>Account Age</th>\n",
       "      <th>MOM Percent Increase</th>\n",
       "      <th>Plan Type</th>\n",
       "      <th>Complaint Type</th>\n",
       "      <th>Avg Payment Delays Days</th>\n",
       "      <th>Tech Complaints</th>\n",
       "      <th>Current Days Pending Work</th>\n",
       "      <th>Handset Age</th>\n",
       "      <th>Condition of  Gadget</th>\n",
       "      <th>Avg Hours Pending Work</th>\n",
       "    </tr>\n",
       "  </thead>\n",
       "  <tbody>\n",
       "    <tr>\n",
       "      <th>0</th>\n",
       "      <td>No Churn</td>\n",
       "      <td>0</td>\n",
       "      <td>14210</td>\n",
       "      <td>17950.000000</td>\n",
       "      <td>30297.0000</td>\n",
       "      <td>24</td>\n",
       "      <td>-0.334193</td>\n",
       "      <td>Gold</td>\n",
       "      <td>Billing Problem</td>\n",
       "      <td>6.2</td>\n",
       "      <td>0</td>\n",
       "      <td>0.0</td>\n",
       "      <td>8</td>\n",
       "      <td>1.0</td>\n",
       "      <td>0.0</td>\n",
       "    </tr>\n",
       "    <tr>\n",
       "      <th>1</th>\n",
       "      <td>Churn</td>\n",
       "      <td>1</td>\n",
       "      <td>14407</td>\n",
       "      <td>0.000000</td>\n",
       "      <td>0.0000</td>\n",
       "      <td>28</td>\n",
       "      <td>0.000000</td>\n",
       "      <td>Silver</td>\n",
       "      <td>Moving</td>\n",
       "      <td>1.0</td>\n",
       "      <td>0</td>\n",
       "      <td>0.0</td>\n",
       "      <td>17</td>\n",
       "      <td>1.0</td>\n",
       "      <td>0.0</td>\n",
       "    </tr>\n",
       "    <tr>\n",
       "      <th>2</th>\n",
       "      <td>Churn</td>\n",
       "      <td>1</td>\n",
       "      <td>12712</td>\n",
       "      <td>204.666667</td>\n",
       "      <td>10393.6667</td>\n",
       "      <td>23</td>\n",
       "      <td>0.000000</td>\n",
       "      <td>Gold</td>\n",
       "      <td>Billing Problem</td>\n",
       "      <td>17.6</td>\n",
       "      <td>0</td>\n",
       "      <td>0.0</td>\n",
       "      <td>23</td>\n",
       "      <td>1.0</td>\n",
       "      <td>0.0</td>\n",
       "    </tr>\n",
       "    <tr>\n",
       "      <th>3</th>\n",
       "      <td>No Churn</td>\n",
       "      <td>0</td>\n",
       "      <td>13807</td>\n",
       "      <td>15490.333300</td>\n",
       "      <td>41256.3333</td>\n",
       "      <td>39</td>\n",
       "      <td>0.148986</td>\n",
       "      <td>Silver</td>\n",
       "      <td>Billing Problem</td>\n",
       "      <td>0.0</td>\n",
       "      <td>0</td>\n",
       "      <td>0.0</td>\n",
       "      <td>17</td>\n",
       "      <td>1.0</td>\n",
       "      <td>0.0</td>\n",
       "    </tr>\n",
       "    <tr>\n",
       "      <th>4</th>\n",
       "      <td>No Churn</td>\n",
       "      <td>0</td>\n",
       "      <td>3805</td>\n",
       "      <td>5075.000000</td>\n",
       "      <td>12333.3333</td>\n",
       "      <td>23</td>\n",
       "      <td>-0.686047</td>\n",
       "      <td>Gold</td>\n",
       "      <td>Billing Problem</td>\n",
       "      <td>3.8</td>\n",
       "      <td>0</td>\n",
       "      <td>0.0</td>\n",
       "      <td>10</td>\n",
       "      <td>1.0</td>\n",
       "      <td>0.0</td>\n",
       "    </tr>\n",
       "  </tbody>\n",
       "</table>\n",
       "</div>"
      ],
      "text/plain": [
       "      Churn  Churn Code  Last Bill Amt  Avg Total Calls  Avg Calls Weekdays  \\\n",
       "0  No Churn           0          14210     17950.000000          30297.0000   \n",
       "1     Churn           1          14407         0.000000              0.0000   \n",
       "2     Churn           1          12712       204.666667          10393.6667   \n",
       "3  No Churn           0          13807     15490.333300          41256.3333   \n",
       "4  No Churn           0           3805      5075.000000          12333.3333   \n",
       "\n",
       "   Account Age  MOM Percent Increase Plan Type   Complaint Type  \\\n",
       "0           24             -0.334193      Gold  Billing Problem   \n",
       "1           28              0.000000    Silver           Moving   \n",
       "2           23              0.000000      Gold  Billing Problem   \n",
       "3           39              0.148986    Silver  Billing Problem   \n",
       "4           23             -0.686047      Gold  Billing Problem   \n",
       "\n",
       "   Avg Payment Delays Days  Tech Complaints  Current Days Pending Work  \\\n",
       "0                      6.2                0                        0.0   \n",
       "1                      1.0                0                        0.0   \n",
       "2                     17.6                0                        0.0   \n",
       "3                      0.0                0                        0.0   \n",
       "4                      3.8                0                        0.0   \n",
       "\n",
       "   Handset Age  Condition of  Gadget  Avg Hours Pending Work  \n",
       "0            8                   1.0                     0.0  \n",
       "1           17                   1.0                     0.0  \n",
       "2           23                   1.0                     0.0  \n",
       "3           17                   1.0                     0.0  \n",
       "4           10                   1.0                     0.0  "
      ]
     },
     "execution_count": 3,
     "metadata": {},
     "output_type": "execute_result"
    }
   ],
   "source": [
    "# Read the data into a pandas DataFrame named data:\n",
    "\n",
    "data= pd.read_csv('Telecom_Data.csv')\n",
    "\n",
    "# After loading data, take a view of data\n",
    "\n",
    "data.head(5)"
   ]
  },
  {
   "cell_type": "code",
   "execution_count": 4,
   "metadata": {},
   "outputs": [
    {
     "data": {
      "text/plain": [
       "(4708, 15)"
      ]
     },
     "execution_count": 4,
     "metadata": {},
     "output_type": "execute_result"
    }
   ],
   "source": [
    "# Check the number of rows and columns in the dataset:\n",
    "# This dataste has 4708 rows and 15 columns.\n",
    "\n",
    "data.shape"
   ]
  },
  {
   "cell_type": "markdown",
   "metadata": {},
   "source": [
    "### Data Cleaning "
   ]
  },
  {
   "cell_type": "code",
   "execution_count": 5,
   "metadata": {},
   "outputs": [
    {
     "data": {
      "text/plain": [
       "True"
      ]
     },
     "execution_count": 5,
     "metadata": {},
     "output_type": "execute_result"
    }
   ],
   "source": [
    "#First check if the dataset has any missing values\n",
    "\n",
    "data.isnull().values.any()"
   ]
  },
  {
   "cell_type": "code",
   "execution_count": 6,
   "metadata": {},
   "outputs": [
    {
     "name": "stdout",
     "output_type": "stream",
     "text": [
      "<class 'pandas.core.frame.DataFrame'>\n",
      "RangeIndex: 4708 entries, 0 to 4707\n",
      "Data columns (total 15 columns):\n",
      "Churn                        4708 non-null object\n",
      "Churn Code                   4708 non-null int64\n",
      "Last Bill Amt                4708 non-null int64\n",
      "Avg Total Calls              4708 non-null float64\n",
      "Avg Calls Weekdays           4708 non-null float64\n",
      "Account Age                  4708 non-null int64\n",
      "MOM Percent Increase         4708 non-null float64\n",
      "Plan Type                    4708 non-null object\n",
      "Complaint Type               4701 non-null object\n",
      "Avg Payment Delays Days      4708 non-null float64\n",
      "Tech Complaints              4708 non-null int64\n",
      "Current Days Pending Work    4708 non-null float64\n",
      "Handset Age                  4708 non-null int64\n",
      "Condition of  Gadget         4264 non-null float64\n",
      "Avg Hours Pending Work       4708 non-null float64\n",
      "dtypes: float64(7), int64(5), object(3)\n",
      "memory usage: 551.8+ KB\n"
     ]
    }
   ],
   "source": [
    "# Take a view of the datatypes of coumns and\n",
    "# which columns have missing values\n",
    "\n",
    "data.info()\n",
    "\n",
    "# It seems that \"Complaint_Type\" & \"Condition of Gadget \" have got missing values in them."
   ]
  },
  {
   "cell_type": "code",
   "execution_count": 7,
   "metadata": {},
   "outputs": [],
   "source": [
    "# First lets remove the space in column name with underscore\n",
    "\n",
    "data.columns=data.columns.str.replace(' ','_')"
   ]
  },
  {
   "cell_type": "code",
   "execution_count": 8,
   "metadata": {},
   "outputs": [
    {
     "name": "stdout",
     "output_type": "stream",
     "text": [
      "<class 'pandas.core.frame.DataFrame'>\n",
      "RangeIndex: 4708 entries, 0 to 4707\n",
      "Data columns (total 15 columns):\n",
      "Churn                        4708 non-null object\n",
      "Churn_Code                   4708 non-null int64\n",
      "Last_Bill_Amt                4708 non-null int64\n",
      "Avg_Total_Calls              4708 non-null float64\n",
      "Avg_Calls_Weekdays           4708 non-null float64\n",
      "Account_Age                  4708 non-null int64\n",
      "MOM_Percent_Increase         4708 non-null float64\n",
      "Plan_Type                    4708 non-null object\n",
      "Complaint_Type               4701 non-null object\n",
      "Avg_Payment_Delays_Days      4708 non-null float64\n",
      "Tech_Complaints              4708 non-null int64\n",
      "Current_Days_Pending_Work    4708 non-null float64\n",
      "Handset_Age                  4708 non-null int64\n",
      "Condition_of__Gadget         4264 non-null float64\n",
      "Avg_Hours_Pending_Work       4708 non-null float64\n",
      "dtypes: float64(7), int64(5), object(3)\n",
      "memory usage: 551.8+ KB\n"
     ]
    }
   ],
   "source": [
    "# Lets see the new names\n",
    "data.info()"
   ]
  },
  {
   "cell_type": "markdown",
   "metadata": {},
   "source": [
    "### Descriptive Analysis"
   ]
  },
  {
   "cell_type": "code",
   "execution_count": 9,
   "metadata": {},
   "outputs": [
    {
     "data": {
      "text/html": [
       "<div>\n",
       "<style scoped>\n",
       "    .dataframe tbody tr th:only-of-type {\n",
       "        vertical-align: middle;\n",
       "    }\n",
       "\n",
       "    .dataframe tbody tr th {\n",
       "        vertical-align: top;\n",
       "    }\n",
       "\n",
       "    .dataframe thead th {\n",
       "        text-align: right;\n",
       "    }\n",
       "</style>\n",
       "<table border=\"1\" class=\"dataframe\">\n",
       "  <thead>\n",
       "    <tr style=\"text-align: right;\">\n",
       "      <th></th>\n",
       "      <th>Churn_Code</th>\n",
       "      <th>Last_Bill_Amt</th>\n",
       "      <th>Avg_Total_Calls</th>\n",
       "      <th>Avg_Calls_Weekdays</th>\n",
       "      <th>Account_Age</th>\n",
       "      <th>MOM_Percent_Increase</th>\n",
       "      <th>Avg_Payment_Delays_Days</th>\n",
       "      <th>Tech_Complaints</th>\n",
       "      <th>Current_Days_Pending_Work</th>\n",
       "      <th>Handset_Age</th>\n",
       "      <th>Condition_of__Gadget</th>\n",
       "      <th>Avg_Hours_Pending_Work</th>\n",
       "    </tr>\n",
       "  </thead>\n",
       "  <tbody>\n",
       "    <tr>\n",
       "      <th>count</th>\n",
       "      <td>4708.000000</td>\n",
       "      <td>4708.000000</td>\n",
       "      <td>4708.000000</td>\n",
       "      <td>4708.000000</td>\n",
       "      <td>4708.000000</td>\n",
       "      <td>4708.000000</td>\n",
       "      <td>4708.000000</td>\n",
       "      <td>4708.000000</td>\n",
       "      <td>4708.000000</td>\n",
       "      <td>4708.000000</td>\n",
       "      <td>4264.000000</td>\n",
       "      <td>4708.000000</td>\n",
       "    </tr>\n",
       "    <tr>\n",
       "      <th>mean</th>\n",
       "      <td>0.485769</td>\n",
       "      <td>19828.815845</td>\n",
       "      <td>9269.690314</td>\n",
       "      <td>38127.994973</td>\n",
       "      <td>26.079652</td>\n",
       "      <td>-0.005127</td>\n",
       "      <td>13.968564</td>\n",
       "      <td>0.414826</td>\n",
       "      <td>2.438828</td>\n",
       "      <td>10.811810</td>\n",
       "      <td>1.019231</td>\n",
       "      <td>0.936501</td>\n",
       "    </tr>\n",
       "    <tr>\n",
       "      <th>std</th>\n",
       "      <td>0.499851</td>\n",
       "      <td>17204.510108</td>\n",
       "      <td>10437.339850</td>\n",
       "      <td>39172.244943</td>\n",
       "      <td>7.149933</td>\n",
       "      <td>4.481852</td>\n",
       "      <td>10.789062</td>\n",
       "      <td>0.954549</td>\n",
       "      <td>20.197292</td>\n",
       "      <td>8.710548</td>\n",
       "      <td>0.144021</td>\n",
       "      <td>8.926752</td>\n",
       "    </tr>\n",
       "    <tr>\n",
       "      <th>min</th>\n",
       "      <td>0.000000</td>\n",
       "      <td>-690.000000</td>\n",
       "      <td>0.000000</td>\n",
       "      <td>0.000000</td>\n",
       "      <td>15.000000</td>\n",
       "      <td>-1.000000</td>\n",
       "      <td>0.000000</td>\n",
       "      <td>0.000000</td>\n",
       "      <td>0.000000</td>\n",
       "      <td>0.000000</td>\n",
       "      <td>1.000000</td>\n",
       "      <td>0.000000</td>\n",
       "    </tr>\n",
       "    <tr>\n",
       "      <th>25%</th>\n",
       "      <td>0.000000</td>\n",
       "      <td>12288.000000</td>\n",
       "      <td>2602.250002</td>\n",
       "      <td>13031.250025</td>\n",
       "      <td>20.000000</td>\n",
       "      <td>-0.574084</td>\n",
       "      <td>6.000000</td>\n",
       "      <td>0.000000</td>\n",
       "      <td>0.000000</td>\n",
       "      <td>4.000000</td>\n",
       "      <td>1.000000</td>\n",
       "      <td>0.000000</td>\n",
       "    </tr>\n",
       "    <tr>\n",
       "      <th>50%</th>\n",
       "      <td>0.000000</td>\n",
       "      <td>15254.000000</td>\n",
       "      <td>6396.333330</td>\n",
       "      <td>26765.833350</td>\n",
       "      <td>25.000000</td>\n",
       "      <td>-0.185280</td>\n",
       "      <td>12.400000</td>\n",
       "      <td>0.000000</td>\n",
       "      <td>0.000000</td>\n",
       "      <td>9.000000</td>\n",
       "      <td>1.000000</td>\n",
       "      <td>0.000000</td>\n",
       "    </tr>\n",
       "    <tr>\n",
       "      <th>75%</th>\n",
       "      <td>1.000000</td>\n",
       "      <td>22799.000000</td>\n",
       "      <td>12250.499975</td>\n",
       "      <td>50061.416675</td>\n",
       "      <td>32.000000</td>\n",
       "      <td>0.121823</td>\n",
       "      <td>19.300000</td>\n",
       "      <td>0.000000</td>\n",
       "      <td>0.000000</td>\n",
       "      <td>17.000000</td>\n",
       "      <td>1.000000</td>\n",
       "      <td>0.000000</td>\n",
       "    </tr>\n",
       "    <tr>\n",
       "      <th>max</th>\n",
       "      <td>1.000000</td>\n",
       "      <td>325127.000000</td>\n",
       "      <td>181786.000000</td>\n",
       "      <td>374457.667000</td>\n",
       "      <td>40.000000</td>\n",
       "      <td>210.100000</td>\n",
       "      <td>126.000000</td>\n",
       "      <td>11.000000</td>\n",
       "      <td>368.000000</td>\n",
       "      <td>39.000000</td>\n",
       "      <td>3.000000</td>\n",
       "      <td>297.500000</td>\n",
       "    </tr>\n",
       "  </tbody>\n",
       "</table>\n",
       "</div>"
      ],
      "text/plain": [
       "        Churn_Code  Last_Bill_Amt  Avg_Total_Calls  Avg_Calls_Weekdays  \\\n",
       "count  4708.000000    4708.000000      4708.000000         4708.000000   \n",
       "mean      0.485769   19828.815845      9269.690314        38127.994973   \n",
       "std       0.499851   17204.510108     10437.339850        39172.244943   \n",
       "min       0.000000    -690.000000         0.000000            0.000000   \n",
       "25%       0.000000   12288.000000      2602.250002        13031.250025   \n",
       "50%       0.000000   15254.000000      6396.333330        26765.833350   \n",
       "75%       1.000000   22799.000000     12250.499975        50061.416675   \n",
       "max       1.000000  325127.000000    181786.000000       374457.667000   \n",
       "\n",
       "       Account_Age  MOM_Percent_Increase  Avg_Payment_Delays_Days  \\\n",
       "count  4708.000000           4708.000000              4708.000000   \n",
       "mean     26.079652             -0.005127                13.968564   \n",
       "std       7.149933              4.481852                10.789062   \n",
       "min      15.000000             -1.000000                 0.000000   \n",
       "25%      20.000000             -0.574084                 6.000000   \n",
       "50%      25.000000             -0.185280                12.400000   \n",
       "75%      32.000000              0.121823                19.300000   \n",
       "max      40.000000            210.100000               126.000000   \n",
       "\n",
       "       Tech_Complaints  Current_Days_Pending_Work  Handset_Age  \\\n",
       "count      4708.000000                4708.000000  4708.000000   \n",
       "mean          0.414826                   2.438828    10.811810   \n",
       "std           0.954549                  20.197292     8.710548   \n",
       "min           0.000000                   0.000000     0.000000   \n",
       "25%           0.000000                   0.000000     4.000000   \n",
       "50%           0.000000                   0.000000     9.000000   \n",
       "75%           0.000000                   0.000000    17.000000   \n",
       "max          11.000000                 368.000000    39.000000   \n",
       "\n",
       "       Condition_of__Gadget  Avg_Hours_Pending_Work  \n",
       "count           4264.000000             4708.000000  \n",
       "mean               1.019231                0.936501  \n",
       "std                0.144021                8.926752  \n",
       "min                1.000000                0.000000  \n",
       "25%                1.000000                0.000000  \n",
       "50%                1.000000                0.000000  \n",
       "75%                1.000000                0.000000  \n",
       "max                3.000000              297.500000  "
      ]
     },
     "execution_count": 9,
     "metadata": {},
     "output_type": "execute_result"
    }
   ],
   "source": [
    "# Lets the descriptive statistics of the Numerical and categorical variable.\n",
    "\n",
    "data.describe()"
   ]
  },
  {
   "cell_type": "code",
   "execution_count": 10,
   "metadata": {},
   "outputs": [
    {
     "data": {
      "text/html": [
       "<div>\n",
       "<style scoped>\n",
       "    .dataframe tbody tr th:only-of-type {\n",
       "        vertical-align: middle;\n",
       "    }\n",
       "\n",
       "    .dataframe tbody tr th {\n",
       "        vertical-align: top;\n",
       "    }\n",
       "\n",
       "    .dataframe thead th {\n",
       "        text-align: right;\n",
       "    }\n",
       "</style>\n",
       "<table border=\"1\" class=\"dataframe\">\n",
       "  <thead>\n",
       "    <tr style=\"text-align: right;\">\n",
       "      <th></th>\n",
       "      <th>Churn</th>\n",
       "      <th>Plan_Type</th>\n",
       "      <th>Complaint_Type</th>\n",
       "    </tr>\n",
       "  </thead>\n",
       "  <tbody>\n",
       "    <tr>\n",
       "      <th>count</th>\n",
       "      <td>4708</td>\n",
       "      <td>4708</td>\n",
       "      <td>4701</td>\n",
       "    </tr>\n",
       "    <tr>\n",
       "      <th>unique</th>\n",
       "      <td>2</td>\n",
       "      <td>2</td>\n",
       "      <td>6</td>\n",
       "    </tr>\n",
       "    <tr>\n",
       "      <th>top</th>\n",
       "      <td>No Churn</td>\n",
       "      <td>Silver</td>\n",
       "      <td>Billing Problem</td>\n",
       "    </tr>\n",
       "    <tr>\n",
       "      <th>freq</th>\n",
       "      <td>2421</td>\n",
       "      <td>3914</td>\n",
       "      <td>2908</td>\n",
       "    </tr>\n",
       "  </tbody>\n",
       "</table>\n",
       "</div>"
      ],
      "text/plain": [
       "           Churn Plan_Type   Complaint_Type\n",
       "count       4708      4708             4701\n",
       "unique         2         2                6\n",
       "top     No Churn    Silver  Billing Problem\n",
       "freq        2421      3914             2908"
      ]
     },
     "execution_count": 10,
     "metadata": {},
     "output_type": "execute_result"
    }
   ],
   "source": [
    "data.describe(include='object')"
   ]
  },
  {
   "cell_type": "code",
   "execution_count": 11,
   "metadata": {},
   "outputs": [],
   "source": [
    "# Change the variables datatype\n",
    "# From the above description we can see that some of the variable have min 0 and max 1, so they are basically categorical features\n",
    "\n",
    "data['Churn_Code']=data.Churn_Code.astype('object')\n",
    "data['Condition_of__Gadget']=data.Condition_of__Gadget.astype('object')\n",
    "data['Tech_Complaints']=data.Tech_Complaints.astype('object')\n",
    "data['Churn_Code']=data.Churn_Code.astype('int64')"
   ]
  },
  {
   "cell_type": "code",
   "execution_count": 12,
   "metadata": {},
   "outputs": [
    {
     "data": {
      "text/html": [
       "<div>\n",
       "<style scoped>\n",
       "    .dataframe tbody tr th:only-of-type {\n",
       "        vertical-align: middle;\n",
       "    }\n",
       "\n",
       "    .dataframe tbody tr th {\n",
       "        vertical-align: top;\n",
       "    }\n",
       "\n",
       "    .dataframe thead th {\n",
       "        text-align: right;\n",
       "    }\n",
       "</style>\n",
       "<table border=\"1\" class=\"dataframe\">\n",
       "  <thead>\n",
       "    <tr style=\"text-align: right;\">\n",
       "      <th></th>\n",
       "      <th>Churn</th>\n",
       "      <th>Plan_Type</th>\n",
       "      <th>Complaint_Type</th>\n",
       "      <th>Tech_Complaints</th>\n",
       "      <th>Condition_of__Gadget</th>\n",
       "    </tr>\n",
       "  </thead>\n",
       "  <tbody>\n",
       "    <tr>\n",
       "      <th>count</th>\n",
       "      <td>4708</td>\n",
       "      <td>4708</td>\n",
       "      <td>4701</td>\n",
       "      <td>4708</td>\n",
       "      <td>4264.0</td>\n",
       "    </tr>\n",
       "    <tr>\n",
       "      <th>unique</th>\n",
       "      <td>2</td>\n",
       "      <td>2</td>\n",
       "      <td>6</td>\n",
       "      <td>11</td>\n",
       "      <td>3.0</td>\n",
       "    </tr>\n",
       "    <tr>\n",
       "      <th>top</th>\n",
       "      <td>No Churn</td>\n",
       "      <td>Silver</td>\n",
       "      <td>Billing Problem</td>\n",
       "      <td>0</td>\n",
       "      <td>1.0</td>\n",
       "    </tr>\n",
       "    <tr>\n",
       "      <th>freq</th>\n",
       "      <td>2421</td>\n",
       "      <td>3914</td>\n",
       "      <td>2908</td>\n",
       "      <td>3589</td>\n",
       "      <td>4186.0</td>\n",
       "    </tr>\n",
       "  </tbody>\n",
       "</table>\n",
       "</div>"
      ],
      "text/plain": [
       "           Churn Plan_Type   Complaint_Type  Tech_Complaints  \\\n",
       "count       4708      4708             4701             4708   \n",
       "unique         2         2                6               11   \n",
       "top     No Churn    Silver  Billing Problem                0   \n",
       "freq        2421      3914             2908             3589   \n",
       "\n",
       "        Condition_of__Gadget  \n",
       "count                 4264.0  \n",
       "unique                   3.0  \n",
       "top                      1.0  \n",
       "freq                  4186.0  "
      ]
     },
     "execution_count": 12,
     "metadata": {},
     "output_type": "execute_result"
    }
   ],
   "source": [
    "# Statistical description of categorical values\n",
    "\n",
    "data.describe(include='object')\n"
   ]
  },
  {
   "cell_type": "code",
   "execution_count": 13,
   "metadata": {},
   "outputs": [
    {
     "data": {
      "text/html": [
       "<div>\n",
       "<style scoped>\n",
       "    .dataframe tbody tr th:only-of-type {\n",
       "        vertical-align: middle;\n",
       "    }\n",
       "\n",
       "    .dataframe tbody tr th {\n",
       "        vertical-align: top;\n",
       "    }\n",
       "\n",
       "    .dataframe thead th {\n",
       "        text-align: right;\n",
       "    }\n",
       "</style>\n",
       "<table border=\"1\" class=\"dataframe\">\n",
       "  <thead>\n",
       "    <tr style=\"text-align: right;\">\n",
       "      <th></th>\n",
       "      <th>0</th>\n",
       "      <th>1</th>\n",
       "    </tr>\n",
       "  </thead>\n",
       "  <tbody>\n",
       "    <tr>\n",
       "      <th>Condition_of__Gadget</th>\n",
       "      <td>444</td>\n",
       "      <td>9.430756</td>\n",
       "    </tr>\n",
       "    <tr>\n",
       "      <th>Complaint_Type</th>\n",
       "      <td>7</td>\n",
       "      <td>0.148683</td>\n",
       "    </tr>\n",
       "    <tr>\n",
       "      <th>Avg_Hours_Pending_Work</th>\n",
       "      <td>0</td>\n",
       "      <td>0.000000</td>\n",
       "    </tr>\n",
       "    <tr>\n",
       "      <th>Handset_Age</th>\n",
       "      <td>0</td>\n",
       "      <td>0.000000</td>\n",
       "    </tr>\n",
       "    <tr>\n",
       "      <th>Current_Days_Pending_Work</th>\n",
       "      <td>0</td>\n",
       "      <td>0.000000</td>\n",
       "    </tr>\n",
       "    <tr>\n",
       "      <th>Tech_Complaints</th>\n",
       "      <td>0</td>\n",
       "      <td>0.000000</td>\n",
       "    </tr>\n",
       "    <tr>\n",
       "      <th>Avg_Payment_Delays_Days</th>\n",
       "      <td>0</td>\n",
       "      <td>0.000000</td>\n",
       "    </tr>\n",
       "    <tr>\n",
       "      <th>Plan_Type</th>\n",
       "      <td>0</td>\n",
       "      <td>0.000000</td>\n",
       "    </tr>\n",
       "    <tr>\n",
       "      <th>MOM_Percent_Increase</th>\n",
       "      <td>0</td>\n",
       "      <td>0.000000</td>\n",
       "    </tr>\n",
       "    <tr>\n",
       "      <th>Account_Age</th>\n",
       "      <td>0</td>\n",
       "      <td>0.000000</td>\n",
       "    </tr>\n",
       "    <tr>\n",
       "      <th>Avg_Calls_Weekdays</th>\n",
       "      <td>0</td>\n",
       "      <td>0.000000</td>\n",
       "    </tr>\n",
       "    <tr>\n",
       "      <th>Avg_Total_Calls</th>\n",
       "      <td>0</td>\n",
       "      <td>0.000000</td>\n",
       "    </tr>\n",
       "    <tr>\n",
       "      <th>Last_Bill_Amt</th>\n",
       "      <td>0</td>\n",
       "      <td>0.000000</td>\n",
       "    </tr>\n",
       "    <tr>\n",
       "      <th>Churn_Code</th>\n",
       "      <td>0</td>\n",
       "      <td>0.000000</td>\n",
       "    </tr>\n",
       "    <tr>\n",
       "      <th>Churn</th>\n",
       "      <td>0</td>\n",
       "      <td>0.000000</td>\n",
       "    </tr>\n",
       "  </tbody>\n",
       "</table>\n",
       "</div>"
      ],
      "text/plain": [
       "                             0         1\n",
       "Condition_of__Gadget       444  9.430756\n",
       "Complaint_Type               7  0.148683\n",
       "Avg_Hours_Pending_Work       0  0.000000\n",
       "Handset_Age                  0  0.000000\n",
       "Current_Days_Pending_Work    0  0.000000\n",
       "Tech_Complaints              0  0.000000\n",
       "Avg_Payment_Delays_Days      0  0.000000\n",
       "Plan_Type                    0  0.000000\n",
       "MOM_Percent_Increase         0  0.000000\n",
       "Account_Age                  0  0.000000\n",
       "Avg_Calls_Weekdays           0  0.000000\n",
       "Avg_Total_Calls              0  0.000000\n",
       "Last_Bill_Amt                0  0.000000\n",
       "Churn_Code                   0  0.000000\n",
       "Churn                        0  0.000000"
      ]
     },
     "execution_count": 13,
     "metadata": {},
     "output_type": "execute_result"
    }
   ],
   "source": [
    "# Missing values \n",
    "# Percentage of missing Values present in every column\n",
    "\n",
    "missing_count = data.isnull().sum().sort_values(ascending = False)\n",
    "missing_percent = (data.isnull().sum()/data.isnull().count()*100).sort_values(ascending = False)\n",
    "missing_value = pd.concat([missing_count, missing_percent ], axis = 1)\n",
    "missing_value"
   ]
  },
  {
   "cell_type": "code",
   "execution_count": 14,
   "metadata": {},
   "outputs": [
    {
     "data": {
      "text/plain": [
       "Billing Problem         2908\n",
       "Call Quality            1070\n",
       "Moving                   511\n",
       "Check Account            195\n",
       "Inaccurate Sales Inf      13\n",
       "Pricing                    4\n",
       "Name: Complaint_Type, dtype: int64"
      ]
     },
     "execution_count": 14,
     "metadata": {},
     "output_type": "execute_result"
    }
   ],
   "source": [
    "# Since both the cloumns with missing values are categorical.\n",
    "# we will impute the values of both of complaint code and condition_of_current_handset with the most occuring values (mode)\n",
    "\n",
    "data.Complaint_Type.value_counts()\n"
   ]
  },
  {
   "cell_type": "code",
   "execution_count": 15,
   "metadata": {},
   "outputs": [
    {
     "data": {
      "text/plain": [
       "1.0    4186\n",
       "2.0      74\n",
       "3.0       4\n",
       "Name: Condition_of__Gadget, dtype: int64"
      ]
     },
     "execution_count": 15,
     "metadata": {},
     "output_type": "execute_result"
    }
   ],
   "source": [
    "data.Condition_of__Gadget.value_counts()\n"
   ]
  },
  {
   "cell_type": "code",
   "execution_count": 16,
   "metadata": {},
   "outputs": [],
   "source": [
    "data['Complaint_Type'].fillna(data['Complaint_Type'].mode().index[0], inplace=True)\n",
    "data['Condition_of__Gadget'].fillna(data['Condition_of__Gadget'].mode().index[0], inplace=True)"
   ]
  },
  {
   "cell_type": "code",
   "execution_count": 17,
   "metadata": {},
   "outputs": [
    {
     "data": {
      "text/plain": [
       "False"
      ]
     },
     "execution_count": 17,
     "metadata": {},
     "output_type": "execute_result"
    }
   ],
   "source": [
    "# No missing values any more\n",
    "data.isnull().values.any()"
   ]
  },
  {
   "cell_type": "markdown",
   "metadata": {},
   "source": [
    "\n",
    "### Exploring the data with Statistical overview, Correlation and Visualization\n"
   ]
  },
  {
   "cell_type": "code",
   "execution_count": 18,
   "metadata": {},
   "outputs": [
    {
     "data": {
      "text/plain": [
       "No Churn    2421\n",
       "Churn       2287\n",
       "Name: Churn, dtype: int64"
      ]
     },
     "execution_count": 18,
     "metadata": {},
     "output_type": "execute_result"
    }
   ],
   "source": [
    "## Inspect the target feature to see number of customers have churned\n",
    "\n",
    "data['Churn'].value_counts(0)"
   ]
  },
  {
   "cell_type": "code",
   "execution_count": 19,
   "metadata": {},
   "outputs": [
    {
     "data": {
      "text/plain": [
       "No Churn    51.42311\n",
       "Churn       48.57689\n",
       "Name: Churn, dtype: float64"
      ]
     },
     "execution_count": 19,
     "metadata": {},
     "output_type": "execute_result"
    }
   ],
   "source": [
    "## See the percentage of customers have churned\n",
    "\n",
    "data['Churn'].value_counts(1)*100"
   ]
  },
  {
   "cell_type": "code",
   "execution_count": 20,
   "metadata": {},
   "outputs": [
    {
     "data": {
      "text/html": [
       "<div>\n",
       "<style scoped>\n",
       "    .dataframe tbody tr th:only-of-type {\n",
       "        vertical-align: middle;\n",
       "    }\n",
       "\n",
       "    .dataframe tbody tr th {\n",
       "        vertical-align: top;\n",
       "    }\n",
       "\n",
       "    .dataframe thead th {\n",
       "        text-align: right;\n",
       "    }\n",
       "</style>\n",
       "<table border=\"1\" class=\"dataframe\">\n",
       "  <thead>\n",
       "    <tr style=\"text-align: right;\">\n",
       "      <th></th>\n",
       "      <th>Churn_Code</th>\n",
       "      <th>Last_Bill_Amt</th>\n",
       "      <th>Avg_Total_Calls</th>\n",
       "      <th>Avg_Calls_Weekdays</th>\n",
       "      <th>Account_Age</th>\n",
       "      <th>MOM_Percent_Increase</th>\n",
       "      <th>Avg_Payment_Delays_Days</th>\n",
       "      <th>Current_Days_Pending_Work</th>\n",
       "      <th>Handset_Age</th>\n",
       "      <th>Condition_of__Gadget</th>\n",
       "      <th>Avg_Hours_Pending_Work</th>\n",
       "    </tr>\n",
       "    <tr>\n",
       "      <th>Churn</th>\n",
       "      <th></th>\n",
       "      <th></th>\n",
       "      <th></th>\n",
       "      <th></th>\n",
       "      <th></th>\n",
       "      <th></th>\n",
       "      <th></th>\n",
       "      <th></th>\n",
       "      <th></th>\n",
       "      <th></th>\n",
       "      <th></th>\n",
       "    </tr>\n",
       "  </thead>\n",
       "  <tbody>\n",
       "    <tr>\n",
       "      <th>Churn</th>\n",
       "      <td>1.0</td>\n",
       "      <td>20182.709226</td>\n",
       "      <td>9348.878298</td>\n",
       "      <td>37524.030899</td>\n",
       "      <td>25.418452</td>\n",
       "      <td>-0.281309</td>\n",
       "      <td>19.075339</td>\n",
       "      <td>2.498907</td>\n",
       "      <td>11.191517</td>\n",
       "      <td>0.930477</td>\n",
       "      <td>0.960482</td>\n",
       "    </tr>\n",
       "    <tr>\n",
       "      <th>No Churn</th>\n",
       "      <td>0.0</td>\n",
       "      <td>19494.510120</td>\n",
       "      <td>9194.885309</td>\n",
       "      <td>38698.530221</td>\n",
       "      <td>26.704254</td>\n",
       "      <td>0.255769</td>\n",
       "      <td>9.144444</td>\n",
       "      <td>2.382074</td>\n",
       "      <td>10.453119</td>\n",
       "      <td>0.916150</td>\n",
       "      <td>0.913846</td>\n",
       "    </tr>\n",
       "  </tbody>\n",
       "</table>\n",
       "</div>"
      ],
      "text/plain": [
       "          Churn_Code  Last_Bill_Amt  Avg_Total_Calls  Avg_Calls_Weekdays  \\\n",
       "Churn                                                                      \n",
       "Churn            1.0   20182.709226      9348.878298        37524.030899   \n",
       "No Churn         0.0   19494.510120      9194.885309        38698.530221   \n",
       "\n",
       "          Account_Age  MOM_Percent_Increase  Avg_Payment_Delays_Days  \\\n",
       "Churn                                                                  \n",
       "Churn       25.418452             -0.281309                19.075339   \n",
       "No Churn    26.704254              0.255769                 9.144444   \n",
       "\n",
       "          Current_Days_Pending_Work  Handset_Age  Condition_of__Gadget  \\\n",
       "Churn                                                                    \n",
       "Churn                      2.498907    11.191517              0.930477   \n",
       "No Churn                   2.382074    10.453119              0.916150   \n",
       "\n",
       "          Avg_Hours_Pending_Work  \n",
       "Churn                             \n",
       "Churn                   0.960482  \n",
       "No Churn                0.913846  "
      ]
     },
     "execution_count": 20,
     "metadata": {},
     "output_type": "execute_result"
    }
   ],
   "source": [
    "# Check the mean attributes of customers who have churned compared to those who have not\n",
    "\n",
    "Churn_summary = data.groupby('Churn')\n",
    "Churn_summary.mean()\n",
    "\n",
    "# from this comapison it can be seen that avarage delaye in payment is 19 day for customers who churned, \n",
    "# while average delaye in payment is 9 days for customers remained with company."
   ]
  },
  {
   "cell_type": "code",
   "execution_count": 21,
   "metadata": {},
   "outputs": [
    {
     "data": {
      "text/html": [
       "<div>\n",
       "<style scoped>\n",
       "    .dataframe tbody tr th:only-of-type {\n",
       "        vertical-align: middle;\n",
       "    }\n",
       "\n",
       "    .dataframe tbody tr th {\n",
       "        vertical-align: top;\n",
       "    }\n",
       "\n",
       "    .dataframe thead th {\n",
       "        text-align: right;\n",
       "    }\n",
       "</style>\n",
       "<table border=\"1\" class=\"dataframe\">\n",
       "  <thead>\n",
       "    <tr style=\"text-align: right;\">\n",
       "      <th></th>\n",
       "      <th>Churn_Code</th>\n",
       "      <th>Last_Bill_Amt</th>\n",
       "      <th>Avg_Total_Calls</th>\n",
       "      <th>Avg_Calls_Weekdays</th>\n",
       "      <th>Account_Age</th>\n",
       "      <th>MOM_Percent_Increase</th>\n",
       "      <th>Avg_Payment_Delays_Days</th>\n",
       "      <th>Current_Days_Pending_Work</th>\n",
       "      <th>Handset_Age</th>\n",
       "      <th>Condition_of__Gadget</th>\n",
       "      <th>Avg_Hours_Pending_Work</th>\n",
       "    </tr>\n",
       "  </thead>\n",
       "  <tbody>\n",
       "    <tr>\n",
       "      <th>Churn_Code</th>\n",
       "      <td>1.000000</td>\n",
       "      <td>0.019995</td>\n",
       "      <td>0.007375</td>\n",
       "      <td>-0.014987</td>\n",
       "      <td>-0.089890</td>\n",
       "      <td>-0.059899</td>\n",
       "      <td>0.460092</td>\n",
       "      <td>0.002891</td>\n",
       "      <td>0.042373</td>\n",
       "      <td>0.021837</td>\n",
       "      <td>0.002611</td>\n",
       "    </tr>\n",
       "    <tr>\n",
       "      <th>Last_Bill_Amt</th>\n",
       "      <td>0.019995</td>\n",
       "      <td>1.000000</td>\n",
       "      <td>0.352535</td>\n",
       "      <td>0.428040</td>\n",
       "      <td>0.003292</td>\n",
       "      <td>-0.015588</td>\n",
       "      <td>0.024285</td>\n",
       "      <td>0.076418</td>\n",
       "      <td>-0.040732</td>\n",
       "      <td>0.016123</td>\n",
       "      <td>0.016852</td>\n",
       "    </tr>\n",
       "    <tr>\n",
       "      <th>Avg_Total_Calls</th>\n",
       "      <td>0.007375</td>\n",
       "      <td>0.352535</td>\n",
       "      <td>1.000000</td>\n",
       "      <td>0.727226</td>\n",
       "      <td>-0.023758</td>\n",
       "      <td>-0.040899</td>\n",
       "      <td>0.019407</td>\n",
       "      <td>0.078428</td>\n",
       "      <td>-0.099348</td>\n",
       "      <td>0.026552</td>\n",
       "      <td>0.013441</td>\n",
       "    </tr>\n",
       "    <tr>\n",
       "      <th>Avg_Calls_Weekdays</th>\n",
       "      <td>-0.014987</td>\n",
       "      <td>0.428040</td>\n",
       "      <td>0.727226</td>\n",
       "      <td>1.000000</td>\n",
       "      <td>0.029957</td>\n",
       "      <td>-0.044496</td>\n",
       "      <td>0.017134</td>\n",
       "      <td>0.065318</td>\n",
       "      <td>-0.103769</td>\n",
       "      <td>0.034463</td>\n",
       "      <td>0.013577</td>\n",
       "    </tr>\n",
       "    <tr>\n",
       "      <th>Account_Age</th>\n",
       "      <td>-0.089890</td>\n",
       "      <td>0.003292</td>\n",
       "      <td>-0.023758</td>\n",
       "      <td>0.029957</td>\n",
       "      <td>1.000000</td>\n",
       "      <td>-0.004022</td>\n",
       "      <td>-0.047542</td>\n",
       "      <td>-0.026270</td>\n",
       "      <td>0.073503</td>\n",
       "      <td>0.090686</td>\n",
       "      <td>0.005059</td>\n",
       "    </tr>\n",
       "    <tr>\n",
       "      <th>MOM_Percent_Increase</th>\n",
       "      <td>-0.059899</td>\n",
       "      <td>-0.015588</td>\n",
       "      <td>-0.040899</td>\n",
       "      <td>-0.044496</td>\n",
       "      <td>-0.004022</td>\n",
       "      <td>1.000000</td>\n",
       "      <td>0.049768</td>\n",
       "      <td>-0.003013</td>\n",
       "      <td>-0.003819</td>\n",
       "      <td>0.010198</td>\n",
       "      <td>-0.008848</td>\n",
       "    </tr>\n",
       "    <tr>\n",
       "      <th>Avg_Payment_Delays_Days</th>\n",
       "      <td>0.460092</td>\n",
       "      <td>0.024285</td>\n",
       "      <td>0.019407</td>\n",
       "      <td>0.017134</td>\n",
       "      <td>-0.047542</td>\n",
       "      <td>0.049768</td>\n",
       "      <td>1.000000</td>\n",
       "      <td>-0.001686</td>\n",
       "      <td>0.014047</td>\n",
       "      <td>0.022345</td>\n",
       "      <td>0.000168</td>\n",
       "    </tr>\n",
       "    <tr>\n",
       "      <th>Current_Days_Pending_Work</th>\n",
       "      <td>0.002891</td>\n",
       "      <td>0.076418</td>\n",
       "      <td>0.078428</td>\n",
       "      <td>0.065318</td>\n",
       "      <td>-0.026270</td>\n",
       "      <td>-0.003013</td>\n",
       "      <td>-0.001686</td>\n",
       "      <td>1.000000</td>\n",
       "      <td>-0.037599</td>\n",
       "      <td>0.086538</td>\n",
       "      <td>0.029384</td>\n",
       "    </tr>\n",
       "    <tr>\n",
       "      <th>Handset_Age</th>\n",
       "      <td>0.042373</td>\n",
       "      <td>-0.040732</td>\n",
       "      <td>-0.099348</td>\n",
       "      <td>-0.103769</td>\n",
       "      <td>0.073503</td>\n",
       "      <td>-0.003819</td>\n",
       "      <td>0.014047</td>\n",
       "      <td>-0.037599</td>\n",
       "      <td>1.000000</td>\n",
       "      <td>0.369047</td>\n",
       "      <td>-0.014347</td>\n",
       "    </tr>\n",
       "    <tr>\n",
       "      <th>Condition_of__Gadget</th>\n",
       "      <td>0.021837</td>\n",
       "      <td>0.016123</td>\n",
       "      <td>0.026552</td>\n",
       "      <td>0.034463</td>\n",
       "      <td>0.090686</td>\n",
       "      <td>0.010198</td>\n",
       "      <td>0.022345</td>\n",
       "      <td>0.086538</td>\n",
       "      <td>0.369047</td>\n",
       "      <td>1.000000</td>\n",
       "      <td>-0.000401</td>\n",
       "    </tr>\n",
       "    <tr>\n",
       "      <th>Avg_Hours_Pending_Work</th>\n",
       "      <td>0.002611</td>\n",
       "      <td>0.016852</td>\n",
       "      <td>0.013441</td>\n",
       "      <td>0.013577</td>\n",
       "      <td>0.005059</td>\n",
       "      <td>-0.008848</td>\n",
       "      <td>0.000168</td>\n",
       "      <td>0.029384</td>\n",
       "      <td>-0.014347</td>\n",
       "      <td>-0.000401</td>\n",
       "      <td>1.000000</td>\n",
       "    </tr>\n",
       "  </tbody>\n",
       "</table>\n",
       "</div>"
      ],
      "text/plain": [
       "                           Churn_Code  Last_Bill_Amt  Avg_Total_Calls  \\\n",
       "Churn_Code                   1.000000       0.019995         0.007375   \n",
       "Last_Bill_Amt                0.019995       1.000000         0.352535   \n",
       "Avg_Total_Calls              0.007375       0.352535         1.000000   \n",
       "Avg_Calls_Weekdays          -0.014987       0.428040         0.727226   \n",
       "Account_Age                 -0.089890       0.003292        -0.023758   \n",
       "MOM_Percent_Increase        -0.059899      -0.015588        -0.040899   \n",
       "Avg_Payment_Delays_Days      0.460092       0.024285         0.019407   \n",
       "Current_Days_Pending_Work    0.002891       0.076418         0.078428   \n",
       "Handset_Age                  0.042373      -0.040732        -0.099348   \n",
       "Condition_of__Gadget         0.021837       0.016123         0.026552   \n",
       "Avg_Hours_Pending_Work       0.002611       0.016852         0.013441   \n",
       "\n",
       "                           Avg_Calls_Weekdays  Account_Age  \\\n",
       "Churn_Code                          -0.014987    -0.089890   \n",
       "Last_Bill_Amt                        0.428040     0.003292   \n",
       "Avg_Total_Calls                      0.727226    -0.023758   \n",
       "Avg_Calls_Weekdays                   1.000000     0.029957   \n",
       "Account_Age                          0.029957     1.000000   \n",
       "MOM_Percent_Increase                -0.044496    -0.004022   \n",
       "Avg_Payment_Delays_Days              0.017134    -0.047542   \n",
       "Current_Days_Pending_Work            0.065318    -0.026270   \n",
       "Handset_Age                         -0.103769     0.073503   \n",
       "Condition_of__Gadget                 0.034463     0.090686   \n",
       "Avg_Hours_Pending_Work               0.013577     0.005059   \n",
       "\n",
       "                           MOM_Percent_Increase  Avg_Payment_Delays_Days  \\\n",
       "Churn_Code                            -0.059899                 0.460092   \n",
       "Last_Bill_Amt                         -0.015588                 0.024285   \n",
       "Avg_Total_Calls                       -0.040899                 0.019407   \n",
       "Avg_Calls_Weekdays                    -0.044496                 0.017134   \n",
       "Account_Age                           -0.004022                -0.047542   \n",
       "MOM_Percent_Increase                   1.000000                 0.049768   \n",
       "Avg_Payment_Delays_Days                0.049768                 1.000000   \n",
       "Current_Days_Pending_Work             -0.003013                -0.001686   \n",
       "Handset_Age                           -0.003819                 0.014047   \n",
       "Condition_of__Gadget                   0.010198                 0.022345   \n",
       "Avg_Hours_Pending_Work                -0.008848                 0.000168   \n",
       "\n",
       "                           Current_Days_Pending_Work  Handset_Age  \\\n",
       "Churn_Code                                  0.002891     0.042373   \n",
       "Last_Bill_Amt                               0.076418    -0.040732   \n",
       "Avg_Total_Calls                             0.078428    -0.099348   \n",
       "Avg_Calls_Weekdays                          0.065318    -0.103769   \n",
       "Account_Age                                -0.026270     0.073503   \n",
       "MOM_Percent_Increase                       -0.003013    -0.003819   \n",
       "Avg_Payment_Delays_Days                    -0.001686     0.014047   \n",
       "Current_Days_Pending_Work                   1.000000    -0.037599   \n",
       "Handset_Age                                -0.037599     1.000000   \n",
       "Condition_of__Gadget                        0.086538     0.369047   \n",
       "Avg_Hours_Pending_Work                      0.029384    -0.014347   \n",
       "\n",
       "                           Condition_of__Gadget  Avg_Hours_Pending_Work  \n",
       "Churn_Code                             0.021837                0.002611  \n",
       "Last_Bill_Amt                          0.016123                0.016852  \n",
       "Avg_Total_Calls                        0.026552                0.013441  \n",
       "Avg_Calls_Weekdays                     0.034463                0.013577  \n",
       "Account_Age                            0.090686                0.005059  \n",
       "MOM_Percent_Increase                   0.010198               -0.008848  \n",
       "Avg_Payment_Delays_Days                0.022345                0.000168  \n",
       "Current_Days_Pending_Work              0.086538                0.029384  \n",
       "Handset_Age                            0.369047               -0.014347  \n",
       "Condition_of__Gadget                   1.000000               -0.000401  \n",
       "Avg_Hours_Pending_Work                -0.000401                1.000000  "
      ]
     },
     "execution_count": 21,
     "metadata": {},
     "output_type": "execute_result"
    },
    {
     "data": {
      "image/png": "[encoded data removed]",
      "text/plain": [
       "<matplotlib.figure.Figure at 0x7f9215019978>"
      ]
     },
     "metadata": {
      "needs_background": "light"
     },
     "output_type": "display_data"
    }
   ],
   "source": [
    " # Lats check the correlation between our continuous features\n",
    "    \n",
    "corr = data.corr()\n",
    "plt.figure(figsize=(15,8))\n",
    "sns.heatmap(corr, xticklabels=corr.columns.values, yticklabels=corr.columns.values,\n",
    "            linewidths=0.01,\n",
    "            square=True,\n",
    "            annot=True,cmap='coolwarm',linecolor=\"white\")\n",
    "corr\n",
    "#plt.title('Correlation between features');"
   ]
  },
  {
   "cell_type": "markdown",
   "metadata": {},
   "source": [
    "## Exploratory Data Analysis (EDA)\n"
   ]
  },
  {
   "cell_type": "markdown",
   "metadata": {},
   "source": [
    "### 1. Univariate Analysis"
   ]
  },
  {
   "cell_type": "code",
   "execution_count": 22,
   "metadata": {},
   "outputs": [
    {
     "data": {
      "text/plain": [
       "Text(0,0.5,'No of Customers')"
      ]
     },
     "execution_count": 22,
     "metadata": {},
     "output_type": "execute_result"
    },
    {
     "data": {
      "image/png": "[encoded data removed]",
      "text/plain": [
       "<matplotlib.figure.Figure at 0x7f9212a065c0>"
      ]
     },
     "metadata": {
      "needs_background": "light"
     },
     "output_type": "display_data"
    }
   ],
   "source": [
    "# Distribution graph of the customers for the Avg_Calls_Weekdays, Avg_Total_Calls, and Last_Bill_Amt\n",
    "\n",
    "f, axes = plt.subplots(ncols=3, figsize=(14, 7))\n",
    "\n",
    "sns.distplot(data.Avg_Calls_Weekdays, kde=True,  color=\"darkblue\", ax=axes[0]).set_title('Avg_Calls_Weekdays')\n",
    "axes[0].set_ylabel('No of Customers')\n",
    "\n",
    "\n",
    "sns.distplot(data.Avg_Total_Calls, kde=True,color=\"maroon\", ax=axes[1]).set_title('Avg_Total_Calls')\n",
    "axes[1].set_ylabel('No of Customers')\n",
    "\n",
    "\n",
    "sns.distplot(data.Last_Bill_Amt, kde=True, color=\"darkgreen\", ax=axes[2]).set_title('Last_Bill_Amt')\n",
    "axes[2].set_ylabel('No of Customers')\n",
    "\n",
    "# All three variables show normal distribution, with right skewnss."
   ]
  },
  {
   "cell_type": "markdown",
   "metadata": {},
   "source": [
    "### 2. Bivariate Analysis\n"
   ]
  },
  {
   "cell_type": "code",
   "execution_count": 23,
   "metadata": {},
   "outputs": [
    {
     "data": {
      "text/plain": [
       "Text(0.5,1,'Complaint Type Distribution')"
      ]
     },
     "execution_count": 23,
     "metadata": {},
     "output_type": "execute_result"
    },
    {
     "data": {
      "image/png": "[encoded data removed]",
      "text/plain": [
       "<matplotlib.figure.Figure at 0x7f921294ada0>"
      ]
     },
     "metadata": {
      "needs_background": "light"
     },
     "output_type": "display_data"
    }
   ],
   "source": [
    "#Inspect whether there is a difference in churn for different types of customer complaints\n",
    "\n",
    "plt.figure(figsize=(18,9))\n",
    "p=sns.countplot(y=\"Complaint_Type\", hue='Churn', data=data,palette=\"Accent\")\n",
    "legend = p.get_legend()\n",
    "legend_txt = legend.texts\n",
    "legend_txt[0].set_text(\"No Churn\")\n",
    "legend_txt[1].set_text(\"Churn\")\n",
    "p.set_title('Complaint Type Distribution')\n",
    "\n",
    "# It can be seen that most customer with call quality complain have left the comapny."
   ]
  },
  {
   "cell_type": "code",
   "execution_count": 24,
   "metadata": {},
   "outputs": [
    {
     "data": {
      "text/plain": [
       "Text(0.5,1,'Customer Plan_Type Distribution')"
      ]
     },
     "execution_count": 24,
     "metadata": {},
     "output_type": "execute_result"
    },
    {
     "data": {
      "image/png": "[encoded data removed]",
      "text/plain": [
       "<matplotlib.figure.Figure at 0x7f9212d29400>"
      ]
     },
     "metadata": {
      "needs_background": "light"
     },
     "output_type": "display_data"
    }
   ],
   "source": [
    "# Check the effect on churn for customers with different plans.\n",
    "\n",
    "plt.figure(figsize=(15,4))\n",
    "p=sns.countplot(y=\"Plan_Type\", hue='Churn', data=data,palette=\"Accent\")\n",
    "legend = p.get_legend()\n",
    "legend_txt = legend.texts\n",
    "legend_txt[0].set_text(\"No Churn\")\n",
    "legend_txt[1].set_text(\"Churn\")\n",
    "p.set_title('Customer Plan_Type Distribution')\n",
    "\n",
    "# it seems that customer with gold plan"
   ]
  },
  {
   "cell_type": "code",
   "execution_count": 25,
   "metadata": {},
   "outputs": [
    {
     "data": {
      "text/plain": [
       "Text(0.5,1,'Customer Tech_Complaints Distribution')"
      ]
     },
     "execution_count": 25,
     "metadata": {},
     "output_type": "execute_result"
    },
    {
     "data": {
      "image/png": "[encoded data removed]",
      "text/plain": [
       "<matplotlib.figure.Figure at 0x7f9212ca0eb8>"
      ]
     },
     "metadata": {
      "needs_background": "light"
     },
     "output_type": "display_data"
    }
   ],
   "source": [
    "# Check the effect on churn for customers with different tech support complaints.\n",
    "\n",
    "plt.figure(figsize=(16,4))\n",
    "p=sns.countplot(y=\"Tech_Complaints\", hue='Churn', data=data,palette=\"Accent\")\n",
    "legend = p.get_legend()\n",
    "legend_txt = legend.texts\n",
    "legend_txt[0].set_text(\"No Churn\")\n",
    "legend_txt[1].set_text(\"Churn\")\n",
    "p.set_title('Customer Tech_Complaints Distribution')"
   ]
  },
  {
   "cell_type": "code",
   "execution_count": 26,
   "metadata": {},
   "outputs": [
    {
     "data": {
      "text/plain": [
       "Text(0.5,1,'Average No of Days Defaluted - churn vs no churn')"
      ]
     },
     "execution_count": 26,
     "metadata": {},
     "output_type": "execute_result"
    },
    {
     "data": {
      "image/png": "[encoded data removed]",
      "text/plain": [
       "<matplotlib.figure.Figure at 0x7f92129d3128>"
      ]
     },
     "metadata": {
      "needs_background": "light"
     },
     "output_type": "display_data"
    }
   ],
   "source": [
    "# plot of Avg_Payment_Delays_Days versus Churn_Code\n",
    "\n",
    "plt.figure(figsize=(15,4))\n",
    "ax=sns.kdeplot(data.loc[(data['Churn_Code'] == 0),'Avg_Payment_Delays_Days'] , color=sns.color_palette(\"Accent\")[0],shade=True,label='no churn')\n",
    "ax=sns.kdeplot(data.loc[(data['Churn_Code'] == 1),'Avg_Payment_Delays_Days'] , color=sns.color_palette(\"Accent\")[1],shade=True, label='churn')\n",
    "ax.set(xlabel='Average No of Days Defaluted', ylabel='Frequency')\n",
    "plt.title('Average No of Days Defaluted - churn vs no churn')\n",
    "\n",
    "# form this plot we see that if the average number of days delinquent is more than 15 days, customers start to churn."
   ]
  },
  {
   "cell_type": "code",
   "execution_count": 27,
   "metadata": {},
   "outputs": [
    {
     "data": {
      "text/plain": [
       "Text(0.5,1,'Account_Age - churn vs no churn')"
      ]
     },
     "execution_count": 27,
     "metadata": {},
     "output_type": "execute_result"
    },
    {
     "data": {
      "image/png": "[encoded data removed]",
      "text/plain": [
       "<matplotlib.figure.Figure at 0x7f92128a0358>"
      ]
     },
     "metadata": {
      "needs_background": "light"
     },
     "output_type": "display_data"
    }
   ],
   "source": [
    "# Plot of Account_Age versus Churn_Code\n",
    "plt.figure(figsize=(15,4))\n",
    "ax=sns.kdeplot(data.loc[(data['Churn_Code'] == 0),'Account_Age'] , color=sns.color_palette(\"Accent\")[0],shade=True,label='no churn')\n",
    "ax=sns.kdeplot(data.loc[(data['Churn_Code'] == 1),'Account_Age'] , color=sns.color_palette(\"Accent\")[1],shade=True, label='churn')\n",
    "ax.set(xlabel='Account_Age', ylabel='Frequency')\n",
    "plt.title('Account_Age - churn vs no churn')\n",
    "\n",
    "# In this plot, we can see that in first 15-20 days of opening an account, the rate of customer churn increases; \n",
    "# while, after crossing 20 days, the churn rate declines."
   ]
  },
  {
   "cell_type": "code",
   "execution_count": 28,
   "metadata": {},
   "outputs": [
    {
     "data": {
      "text/plain": [
       "Text(0.5,1,'MOM_Percent_Increase - churn vs no churn')"
      ]
     },
     "execution_count": 28,
     "metadata": {},
     "output_type": "execute_result"
    },
    {
     "data": {
      "image/png": "[encoded data removed]",
      "text/plain": [
       "<matplotlib.figure.Figure at 0x7f921282a278>"
      ]
     },
     "metadata": {
      "needs_background": "light"
     },
     "output_type": "display_data"
    }
   ],
   "source": [
    "# Plot of MOM_Percent_Increase vs Churn_Code\n",
    "\n",
    "plt.figure(figsize=(16,6))\n",
    "ax=sns.kdeplot(data.loc[(data['Churn_Code'] == 0),'MOM_Percent_Increase'] , color=sns.color_palette(\"Accent\")[0],shade=True,label='no churn')\n",
    "ax=sns.kdeplot(data.loc[(data['Churn_Code'] == 1),'MOM_Percent_Increase'] , color=sns.color_palette(\"Accent\")[1],shade=True, label='churn')\n",
    "ax.set(xlabel='MOM_Percent_Increase', ylabel='Frequency')\n",
    "plt.title('MOM_Percent_Increase - churn vs no churn')\n"
   ]
  },
  {
   "cell_type": "code",
   "execution_count": 29,
   "metadata": {},
   "outputs": [
    {
     "data": {
      "text/plain": [
       "Text(0.5,1,'MOM_Percent_Increase- churn')"
      ]
     },
     "execution_count": 29,
     "metadata": {},
     "output_type": "execute_result"
    },
    {
     "data": {
      "image/png": "[encoded data removed]",
      "text/plain": [
       "<matplotlib.figure.Figure at 0x7f921283a898>"
      ]
     },
     "metadata": {
      "needs_background": "light"
     },
     "output_type": "display_data"
    }
   ],
   "source": [
    "# Plot of MOM_Percent_Increase vs Churn customer\n",
    "\n",
    "plt.figure(figsize=(15,4))\n",
    "ax=sns.kdeplot(data.loc[(data['Churn_Code'] == 1),'MOM_Percent_Increase'] ,color=sns.color_palette(\"Accent\")[1],shade=True, label='churn')\n",
    "ax.set(xlabel='MOM_Percent_Increase', ylabel='Frequency')\n",
    "plt.title('MOM_Percent_Increase- churn')\n",
    "\n",
    "# From this plot we can see that cutomers with a range of −ve% to +ve%  MOM_Percent_Increase are more like to churn."
   ]
  },
  {
   "cell_type": "code",
   "execution_count": 30,
   "metadata": {},
   "outputs": [
    {
     "data": {
      "text/plain": [
       "Text(0.5,1,'MOM_Percent_Increase- no churn')"
      ]
     },
     "execution_count": 30,
     "metadata": {},
     "output_type": "execute_result"
    },
    {
     "data": {
      "image/png": "[encoded data removed]",
      "text/plain": [
       "<matplotlib.figure.Figure at 0x7f92127a83c8>"
      ]
     },
     "metadata": {
      "needs_background": "light"
     },
     "output_type": "display_data"
    }
   ],
   "source": [
    "# Plot of MOM_Percent_Increase vs No-Churn customer\n",
    "plt.figure(figsize=(15,4))\n",
    "ax=sns.kdeplot(data.loc[(data['Churn_Code'] == 0),'MOM_Percent_Increase'] ,color=sns.color_palette(\"Accent\")[0],shade=True, label='no churn')\n",
    "ax.set(xlabel='MOM_Percent_Increase', ylabel='Frequency')\n",
    "plt.title('MOM_Percent_Increase- no churn')"
   ]
  },
  {
   "cell_type": "markdown",
   "metadata": {},
   "source": [
    "## Feature Selection\n",
    "\n",
    "### The random forest classifier is used here for feature selection"
   ]
  },
  {
   "cell_type": "code",
   "execution_count": 31,
   "metadata": {},
   "outputs": [],
   "source": [
    "### Encoding the categorical variables\n",
    "\n",
    "data[\"Plan_Type\"] = data[\"Plan_Type\"].astype('category').cat.codes\n",
    "data[\"Complaint_Type\"] = data[\"Complaint_Type\"].astype('category').cat.codes"
   ]
  },
  {
   "cell_type": "code",
   "execution_count": 32,
   "metadata": {},
   "outputs": [],
   "source": [
    "# Split the data into a training and testing set:\n",
    "target_feat = 'Churn_Code'\n",
    "X = data.drop(['Churn_Code','Churn'], axis=1)\n",
    "y=data[target_feat]"
   ]
  },
  {
   "cell_type": "code",
   "execution_count": 33,
   "metadata": {},
   "outputs": [],
   "source": [
    "X_train, X_test, y_train, y_test = train_test_split(X,y,test_size=0.15, random_state=123, stratify=y)"
   ]
  },
  {
   "cell_type": "code",
   "execution_count": 34,
   "metadata": {},
   "outputs": [
    {
     "data": {
      "image/png": "[encoded data removed]",
      "text/plain": [
       "<matplotlib.figure.Figure at 0x7f9210e732b0>"
      ]
     },
     "metadata": {
      "needs_background": "light"
     },
     "output_type": "display_data"
    }
   ],
   "source": [
    "# Performing the feature selection using the random forest classifier model\n",
    "\n",
    "forest=RandomForestClassifier(n_estimators=500,random_state=1)\n",
    "\n",
    "forest.fit(X_train,y_train)\n",
    "\n",
    "importances=forest.feature_importances_\n",
    "features = data.drop(['Churn_Code','Churn'],axis=1).columns\n",
    "\n",
    "indices = np.argsort(importances)[::-1]\n",
    "\n",
    "plt.figure(figsize=(15,4))\n",
    "plt.title(\"Feature importances using Random Forest\")\n",
    "plt.bar(range(X_train.shape[1]), importances[indices],\n",
    "       color=\"coral\",  align=\"center\")\n",
    "plt.xticks(range(X_train.shape[1]), features[indices], rotation='vertical',fontsize=15)\n",
    "plt.xlim([-1, X_train.shape[1]])\n",
    "plt.show()"
   ]
  },
  {
   "cell_type": "code",
   "execution_count": 42,
   "metadata": {},
   "outputs": [],
   "source": [
    "# Selectinf the top 7 features\n",
    "\n",
    "top7_features = ['Avg_Payment_Delays_Days','MOM_Percent_Increase','Avg_Calls_Weekdays','Last_Bill_Amt','Avg_Total_Calls','Complaint_Type','Account_Age']\n"
   ]
  },
  {
   "cell_type": "markdown",
   "metadata": {},
   "source": [
    "## Feature Scaling - Standardization"
   ]
  },
  {
   "cell_type": "code",
   "execution_count": 43,
   "metadata": {},
   "outputs": [],
   "source": [
    "## Features to be Standardized\n",
    "\n",
    "top5_features=['Avg_Calls_Weekdays', 'Last_Bill_Amt', 'Avg_Total_Calls', 'Account_Age','Avg_Payment_Delays_Days']"
   ]
  },
  {
   "cell_type": "code",
   "execution_count": 44,
   "metadata": {},
   "outputs": [],
   "source": [
    "## Features not to be Standardized\n",
    "\n",
    "top2_features=['MOM_Percent_Increase','Complaint_Type']"
   ]
  },
  {
   "cell_type": "code",
   "execution_count": 45,
   "metadata": {},
   "outputs": [],
   "source": [
    "scaler = preprocessing.StandardScaler().fit(X_train[top5_features])"
   ]
  },
  {
   "cell_type": "code",
   "execution_count": 46,
   "metadata": {},
   "outputs": [],
   "source": [
    "Scale_X_train=pd.DataFrame(scaler.transform(X_train[top5_features]),columns = X_train[top5_features].columns)"
   ]
  },
  {
   "cell_type": "code",
   "execution_count": 47,
   "metadata": {},
   "outputs": [],
   "source": [
    "Scale_X_train_combined=pd.concat([Scale_X_train,  X_train[top2_features].reset_index(drop=True)], axis=1, sort = False)"
   ]
  },
  {
   "cell_type": "code",
   "execution_count": 48,
   "metadata": {},
   "outputs": [],
   "source": [
    "Scale_X_test=pd.DataFrame(scaler.transform(X_test[top5_features]),columns = X_test[top5_features].columns)\n"
   ]
  },
  {
   "cell_type": "code",
   "execution_count": 49,
   "metadata": {},
   "outputs": [],
   "source": [
    "Scale_X_test_combined=pd.concat([Scale_X_test,  X_test[top2_features].reset_index(drop=True)], axis=1, sort=False)\n"
   ]
  },
  {
   "cell_type": "markdown",
   "metadata": {},
   "source": [
    "## Model Building\n",
    "\n",
    "###  Predicting the customer churn using different models\n",
    "\n",
    "### 1. Random Forest Classifier\n",
    "### 2. Decision Tree Classifier\n",
    "### 3. Logistic Regression"
   ]
  },
  {
   "cell_type": "markdown",
   "metadata": {},
   "source": [
    "### 1. Random Forest Classifier"
   ]
  },
  {
   "cell_type": "code",
   "execution_count": 51,
   "metadata": {},
   "outputs": [],
   "source": [
    "# Specify the grid of parameters Random Forest Classifier\n",
    "\n",
    "Rf_parameters = [ {'max_depth': [2,5,7,10], 'min_samples_split' : [2, 5, 10], 'n_estimators' : [20, 50, 100, 150, 200]}]"
   ]
  },
  {
   "cell_type": "code",
   "execution_count": 52,
   "metadata": {},
   "outputs": [],
   "source": [
    "# Use grid search CV with stratified k-fold to find out the best parameters.\n",
    "\n",
    "RF_grid = GridSearchCV(RandomForestClassifier(), param_grid = Rf_parameters, cv = StratifiedKFold(n_splits = 10), verbose = 0, n_jobs = -1)\n"
   ]
  },
  {
   "cell_type": "code",
   "execution_count": 53,
   "metadata": {},
   "outputs": [
    {
     "data": {
      "text/plain": [
       "GridSearchCV(cv=StratifiedKFold(n_splits=10, random_state=None, shuffle=False),\n",
       "             error_score='raise-deprecating',\n",
       "             estimator=RandomForestClassifier(bootstrap=True, class_weight=None,\n",
       "                                              criterion='gini', max_depth=None,\n",
       "                                              max_features='auto',\n",
       "                                              max_leaf_nodes=None,\n",
       "                                              min_impurity_decrease=0.0,\n",
       "                                              min_impurity_split=None,\n",
       "                                              min_samples_leaf=1,\n",
       "                                              min_samples_split=2,\n",
       "                                              min_weight_fraction_leaf=0.0,\n",
       "                                              n_estimators='warn', n_jobs=None,\n",
       "                                              oob_score=False,\n",
       "                                              random_state=None, verbose=0,\n",
       "                                              warm_start=False),\n",
       "             iid='warn', n_jobs=-1,\n",
       "             param_grid=[{'max_depth': [2, 5, 7, 10],\n",
       "                          'min_samples_split': [2, 5, 10],\n",
       "                          'n_estimators': [20, 50, 100, 150, 200]}],\n",
       "             pre_dispatch='2*n_jobs', refit=True, return_train_score=False,\n",
       "             scoring=None, verbose=0)"
      ]
     },
     "execution_count": 53,
     "metadata": {},
     "output_type": "execute_result"
    }
   ],
   "source": [
    "RF_grid.fit(Scale_X_train_combined, y_train)"
   ]
  },
  {
   "cell_type": "code",
   "execution_count": 54,
   "metadata": {},
   "outputs": [
    {
     "name": "stdout",
     "output_type": "stream",
     "text": [
      "best score: 0.802049487628093\n",
      "best parameters :  RandomForestClassifier(bootstrap=True, class_weight=None, criterion='gini',\n",
      "                       max_depth=7, max_features='auto', max_leaf_nodes=None,\n",
      "                       min_impurity_decrease=0.0, min_impurity_split=None,\n",
      "                       min_samples_leaf=1, min_samples_split=5,\n",
      "                       min_weight_fraction_leaf=0.0, n_estimators=50,\n",
      "                       n_jobs=None, oob_score=False, random_state=None,\n",
      "                       verbose=0, warm_start=False)\n"
     ]
    }
   ],
   "source": [
    "# The best score and best parameters as per Grid search CV\n",
    "\n",
    "print('best score:', RF_grid.best_score_)\n",
    "print('best parameters : ', RF_grid.best_estimator_)"
   ]
  },
  {
   "cell_type": "code",
   "execution_count": 55,
   "metadata": {},
   "outputs": [
    {
     "data": {
      "text/plain": [
       "0.826025459688826"
      ]
     },
     "execution_count": 55,
     "metadata": {},
     "output_type": "execute_result"
    }
   ],
   "source": [
    "# Score of the classifier using the test data.\n",
    "RF_grid.score(Scale_X_test_combined, y_test)"
   ]
  },
  {
   "cell_type": "code",
   "execution_count": 56,
   "metadata": {},
   "outputs": [
    {
     "data": {
      "text/plain": [
       "RandomForestClassifier(bootstrap=True, class_weight=None, criterion='gini',\n",
       "                       max_depth=7, max_features='auto', max_leaf_nodes=None,\n",
       "                       min_impurity_decrease=0.0, min_impurity_split=None,\n",
       "                       min_samples_leaf=1, min_samples_split=10,\n",
       "                       min_weight_fraction_leaf=0.0, n_estimators=150,\n",
       "                       n_jobs=None, oob_score=False, random_state=None,\n",
       "                       verbose=0, warm_start=False)"
      ]
     },
     "execution_count": 56,
     "metadata": {},
     "output_type": "execute_result"
    }
   ],
   "source": [
    "# Retraining the model with the best paparmeters defined b Grid search CV\n",
    "RF_model = RandomForestClassifier(bootstrap=True, class_weight=None, criterion='gini',\n",
    "                       max_depth=7, max_features='auto', max_leaf_nodes=None,\n",
    "                       min_impurity_decrease=0.0, min_impurity_split=None,\n",
    "                       min_samples_leaf=1, min_samples_split=10,\n",
    "                       min_weight_fraction_leaf=0.0, n_estimators=150,\n",
    "                       n_jobs=None, oob_score=False, random_state=None,\n",
    "                       verbose=0, warm_start=False)\n",
    "RF_model.fit(Scale_X_train_combined, y_train)"
   ]
  },
  {
   "cell_type": "code",
   "execution_count": 57,
   "metadata": {},
   "outputs": [
    {
     "data": {
      "text/plain": [
       "0.8217821782178217"
      ]
     },
     "execution_count": 57,
     "metadata": {},
     "output_type": "execute_result"
    }
   ],
   "source": [
    "# The new score of classifier after retraining on best estimators\n",
    "# The model score have increased with best parameters\n",
    "\n",
    "RF_model.score(Scale_X_test_combined, y_test)\n"
   ]
  },
  {
   "cell_type": "code",
   "execution_count": 58,
   "metadata": {},
   "outputs": [],
   "source": [
    "# Predicting the test data with the trained Random Forest Classifier\n",
    "\n",
    "RF_pred=RF_model.predict(Scale_X_test_combined)"
   ]
  },
  {
   "cell_type": "code",
   "execution_count": 59,
   "metadata": {},
   "outputs": [
    {
     "name": "stdout",
     "output_type": "stream",
     "text": [
      "              precision    recall  f1-score   support\n",
      "\n",
      "    No Churn       0.84      0.80      0.82       364\n",
      "       Churn       0.80      0.84      0.82       343\n",
      "\n",
      "    accuracy                           0.82       707\n",
      "   macro avg       0.82      0.82      0.82       707\n",
      "weighted avg       0.82      0.82      0.82       707\n",
      "\n"
     ]
    }
   ],
   "source": [
    "# Creating the classification report to see the Precision, Recall and F1-score\n",
    "\n",
    "target_names = ['No Churn', 'Churn']\n",
    "print(classification_report(y_test, RF_pred, target_names=target_names))"
   ]
  },
  {
   "cell_type": "code",
   "execution_count": 60,
   "metadata": {},
   "outputs": [],
   "source": [
    "# Fitiitng the confusion matrix\n",
    "cm = confusion_matrix(y_test, RF_pred) \n",
    "cm_df = pd.DataFrame(cm,\n",
    "                     index = ['No Churn','Churn'], \n",
    "                     columns = ['No Churn','Churn'])"
   ]
  },
  {
   "cell_type": "code",
   "execution_count": 61,
   "metadata": {},
   "outputs": [
    {
     "data": {
      "image/png": "[encoded data removed]",
      "text/plain": [
       "<matplotlib.figure.Figure at 0x7f404d950a90>"
      ]
     },
     "metadata": {
      "needs_background": "light"
     },
     "output_type": "display_data"
    }
   ],
   "source": [
    "# Plot the confusion matrix\n",
    "plt.figure(figsize=(9,6))\n",
    "sns.heatmap(cm_df, annot=True,fmt='g',cmap='GnBu')\n",
    "plt.title('Random Forest \\nAccuracy:{0:.3f}'.format(accuracy_score(y_test, RF_pred)))\n",
    "plt.ylabel('Given Values')\n",
    "plt.xlabel('Predicted Values')\n",
    "plt.show()"
   ]
  },
  {
   "cell_type": "markdown",
   "metadata": {},
   "source": [
    "###  2. Decision Tree Classifier"
   ]
  },
  {
   "cell_type": "code",
   "execution_count": 63,
   "metadata": {},
   "outputs": [],
   "source": [
    "# Training the Decision Tree model\n",
    "decision_train = DecisionTreeClassifier()"
   ]
  },
  {
   "cell_type": "code",
   "execution_count": 64,
   "metadata": {},
   "outputs": [
    {
     "data": {
      "text/plain": [
       "DecisionTreeClassifier(class_weight=None, criterion='gini', max_depth=None,\n",
       "                       max_features=None, max_leaf_nodes=None,\n",
       "                       min_impurity_decrease=0.0, min_impurity_split=None,\n",
       "                       min_samples_leaf=1, min_samples_split=2,\n",
       "                       min_weight_fraction_leaf=0.0, presort=False,\n",
       "                       random_state=None, splitter='best')"
      ]
     },
     "execution_count": 64,
     "metadata": {},
     "output_type": "execute_result"
    }
   ],
   "source": [
    "decision_train.fit(X_train[top7_features],y_train)"
   ]
  },
  {
   "cell_type": "code",
   "execution_count": 65,
   "metadata": {},
   "outputs": [
    {
     "data": {
      "text/plain": [
       "0.7581329561527581"
      ]
     },
     "execution_count": 65,
     "metadata": {},
     "output_type": "execute_result"
    }
   ],
   "source": [
    "# Score of model before Hypertunning\n",
    "decision_train.score(X_test[top7_features], y_test)\n"
   ]
  },
  {
   "cell_type": "code",
   "execution_count": 66,
   "metadata": {},
   "outputs": [],
   "source": [
    "#Specify the grid of parameters Decision Tree Classifier\n",
    "\n",
    "DT_parameters = {'max_depth': [2,5,7,10], 'min_samples_split' : [2, 5, 10]}\n"
   ]
  },
  {
   "cell_type": "code",
   "execution_count": 67,
   "metadata": {},
   "outputs": [],
   "source": [
    "# Use grid search CV with stratified k-fold to find out the best parameters.\n",
    "\n",
    "DT_rdcv = GridSearchCV(estimator=decision_train,\n",
    "            param_grid=DT_parameters, cv = StratifiedKFold(n_splits = 10), verbose = 0, n_jobs = -1)"
   ]
  },
  {
   "cell_type": "code",
   "execution_count": 68,
   "metadata": {},
   "outputs": [
    {
     "data": {
      "text/plain": [
       "GridSearchCV(cv=StratifiedKFold(n_splits=10, random_state=None, shuffle=False),\n",
       "             error_score='raise-deprecating',\n",
       "             estimator=DecisionTreeClassifier(class_weight=None,\n",
       "                                              criterion='gini', max_depth=None,\n",
       "                                              max_features=None,\n",
       "                                              max_leaf_nodes=None,\n",
       "                                              min_impurity_decrease=0.0,\n",
       "                                              min_impurity_split=None,\n",
       "                                              min_samples_leaf=1,\n",
       "                                              min_samples_split=2,\n",
       "                                              min_weight_fraction_leaf=0.0,\n",
       "                                              presort=False, random_state=None,\n",
       "                                              splitter='best'),\n",
       "             iid='warn', n_jobs=-1,\n",
       "             param_grid={'max_depth': [2, 5, 7, 10],\n",
       "                         'min_samples_split': [2, 5, 10]},\n",
       "             pre_dispatch='2*n_jobs', refit=True, return_train_score=False,\n",
       "             scoring=None, verbose=0)"
      ]
     },
     "execution_count": 68,
     "metadata": {},
     "output_type": "execute_result"
    }
   ],
   "source": [
    "DT_rdcv.fit(Scale_X_train_combined, y_train)"
   ]
  },
  {
   "cell_type": "code",
   "execution_count": 69,
   "metadata": {},
   "outputs": [
    {
     "name": "stdout",
     "output_type": "stream",
     "text": [
      "best score: 0.7855536115971007\n",
      "best parameters:  DecisionTreeClassifier(class_weight=None, criterion='gini', max_depth=5,\n",
      "                       max_features=None, max_leaf_nodes=None,\n",
      "                       min_impurity_decrease=0.0, min_impurity_split=None,\n",
      "                       min_samples_leaf=1, min_samples_split=5,\n",
      "                       min_weight_fraction_leaf=0.0, presort=False,\n",
      "                       random_state=None, splitter='best')\n"
     ]
    }
   ],
   "source": [
    "# The best score and best parameters as per Grid search CV\n",
    "\n",
    "print('best score:', DT_rdcv.best_score_)\n",
    "print('best parameters: ', DT_rdcv.best_estimator_)"
   ]
  },
  {
   "cell_type": "code",
   "execution_count": 70,
   "metadata": {},
   "outputs": [
    {
     "data": {
      "text/plain": [
       "DecisionTreeClassifier(class_weight=None, criterion='gini', max_depth=5,\n",
       "                       max_features=None, max_leaf_nodes=None,\n",
       "                       min_impurity_decrease=0.0, min_impurity_split=None,\n",
       "                       min_samples_leaf=1, min_samples_split=5,\n",
       "                       min_weight_fraction_leaf=0.0, presort=False,\n",
       "                       random_state=None, splitter='best')"
      ]
     },
     "execution_count": 70,
     "metadata": {},
     "output_type": "execute_result"
    }
   ],
   "source": [
    "# Retraining the model with the best paparmeters defined b Grid search CV\n",
    "\n",
    "DT_model = DecisionTreeClassifier(class_weight=None, criterion='gini', max_depth=5,\n",
    "                       max_features=None, max_leaf_nodes=None,\n",
    "                       min_impurity_decrease=0.0, min_impurity_split=None,\n",
    "                       min_samples_leaf=1, min_samples_split=5,\n",
    "                       min_weight_fraction_leaf=0.0, presort=False,\n",
    "                       random_state=None, splitter='best')\n",
    "DT_model.fit(Scale_X_train_combined, y_train)"
   ]
  },
  {
   "cell_type": "code",
   "execution_count": 71,
   "metadata": {},
   "outputs": [
    {
     "data": {
      "text/plain": [
       "0.8147100424328148"
      ]
     },
     "execution_count": 71,
     "metadata": {},
     "output_type": "execute_result"
    }
   ],
   "source": [
    "# The new score of classifier after retraining on best estimators\n",
    "# The model score have increased with best parametrs\n",
    "\n",
    "DT_model.score(Scale_X_test_combined, y_test)\n"
   ]
  },
  {
   "cell_type": "code",
   "execution_count": 72,
   "metadata": {},
   "outputs": [],
   "source": [
    "# Predicting the test data with the trained Decision Tree Classifier\n",
    "\n",
    "DT_pred=DT_model.predict(Scale_X_test_combined)\n"
   ]
  },
  {
   "cell_type": "code",
   "execution_count": 73,
   "metadata": {},
   "outputs": [
    {
     "name": "stdout",
     "output_type": "stream",
     "text": [
      "              precision    recall  f1-score   support\n",
      "\n",
      "    No Churn       0.84      0.79      0.82       364\n",
      "       Churn       0.79      0.84      0.81       343\n",
      "\n",
      "    accuracy                           0.81       707\n",
      "   macro avg       0.82      0.82      0.81       707\n",
      "weighted avg       0.82      0.81      0.81       707\n",
      "\n"
     ]
    }
   ],
   "source": [
    "# Creating the classification report to see the Precision, Recall and F1-score\n",
    "\n",
    "target_names = ['No Churn', 'Churn']\n",
    "print(classification_report(y_test, DT_pred, target_names=target_names))\n"
   ]
  },
  {
   "cell_type": "code",
   "execution_count": 74,
   "metadata": {},
   "outputs": [],
   "source": [
    "# Fitiitng the confusion matrix\n",
    "\n",
    "cm = confusion_matrix(y_test, DT_pred) \n",
    "cm_df = pd.DataFrame(cm,\n",
    "                     index = ['No Churn','Churn'], \n",
    "                     columns = ['No Churn','Churn'])"
   ]
  },
  {
   "cell_type": "code",
   "execution_count": 75,
   "metadata": {},
   "outputs": [
    {
     "data": {
      "image/png": "[encoded data removed]",
      "text/plain": [
       "<matplotlib.figure.Figure at 0x7f404d9022b0>"
      ]
     },
     "metadata": {
      "needs_background": "light"
     },
     "output_type": "display_data"
    }
   ],
   "source": [
    "# Plot the confusion matrix\n",
    "\n",
    "plt.figure(figsize=(8,6))\n",
    "sns.heatmap(cm_df, annot=True,fmt='g',cmap='GnBu')\n",
    "plt.title('Decision Tree \\nAccuracy:{0:.3f}'.format(accuracy_score(y_test, DT_pred)))\n",
    "plt.ylabel('Given Values')\n",
    "plt.xlabel('Predicted Values')\n",
    "plt.show()"
   ]
  },
  {
   "cell_type": "markdown",
   "metadata": {},
   "source": [
    "### 3. Logistic Regression"
   ]
  },
  {
   "cell_type": "code",
   "execution_count": 76,
   "metadata": {},
   "outputs": [
    {
     "data": {
      "text/plain": [
       "LogisticRegression(C=1.0, class_weight=None, dual=False, fit_intercept=True,\n",
       "                   intercept_scaling=1, l1_ratio=None, max_iter=100,\n",
       "                   multi_class='warn', n_jobs=None, penalty='l2',\n",
       "                   random_state=0, solver='lbfgs', tol=0.0001, verbose=0,\n",
       "                   warm_start=False)"
      ]
     },
     "execution_count": 76,
     "metadata": {},
     "output_type": "execute_result"
    }
   ],
   "source": [
    "# Training the Logistic Regression model\n",
    "\n",
    "logistic_Train= LogisticRegression(random_state=0, solver='lbfgs')\n",
    "\n",
    "logistic_Train.fit(X_train[top7_features], y_train)\n",
    "\n",
    "\n",
    "\n"
   ]
  },
  {
   "cell_type": "code",
   "execution_count": 77,
   "metadata": {},
   "outputs": [
    {
     "data": {
      "text/plain": [
       "0.7454031117397454"
      ]
     },
     "execution_count": 77,
     "metadata": {},
     "output_type": "execute_result"
    }
   ],
   "source": [
    "# Score of Logistic Regression before Hypertunning\n",
    "\n",
    "logistic_Train.score(X_test[top7_features], y_test)"
   ]
  },
  {
   "cell_type": "code",
   "execution_count": 78,
   "metadata": {},
   "outputs": [],
   "source": [
    "# Specify the grid of parameters Random Forest Classifier\n",
    "\n",
    "LG_parameters = {'penalty': ['l2'], 'C': [0.001,0.01,0.1,1,10,100,1000]}"
   ]
  },
  {
   "cell_type": "code",
   "execution_count": 79,
   "metadata": {},
   "outputs": [],
   "source": [
    "# Use grid search CV with stratified k-fold to find out the best parameters.\n",
    "\n",
    "LG_rdcv = GridSearchCV(estimator=logistic_Train,\n",
    "            param_grid=LG_parameters, cv = StratifiedKFold(n_splits = 10), verbose = 0, n_jobs = -1)"
   ]
  },
  {
   "cell_type": "code",
   "execution_count": 80,
   "metadata": {},
   "outputs": [
    {
     "data": {
      "text/plain": [
       "GridSearchCV(cv=StratifiedKFold(n_splits=10, random_state=None, shuffle=False),\n",
       "             error_score='raise-deprecating',\n",
       "             estimator=LogisticRegression(C=1.0, class_weight=None, dual=False,\n",
       "                                          fit_intercept=True,\n",
       "                                          intercept_scaling=1, l1_ratio=None,\n",
       "                                          max_iter=100, multi_class='warn',\n",
       "                                          n_jobs=None, penalty='l2',\n",
       "                                          random_state=0, solver='lbfgs',\n",
       "                                          tol=0.0001, verbose=0,\n",
       "                                          warm_start=False),\n",
       "             iid='warn', n_jobs=-1,\n",
       "             param_grid={'C': [0.001, 0.01, 0.1, 1, 10, 100, 1000],\n",
       "                         'penalty': ['l2']},\n",
       "             pre_dispatch='2*n_jobs', refit=True, return_train_score=False,\n",
       "             scoring=None, verbose=0)"
      ]
     },
     "execution_count": 80,
     "metadata": {},
     "output_type": "execute_result"
    }
   ],
   "source": [
    "LG_rdcv.fit(Scale_X_train_combined, y_train)"
   ]
  },
  {
   "cell_type": "code",
   "execution_count": 81,
   "metadata": {},
   "outputs": [
    {
     "name": "stdout",
     "output_type": "stream",
     "text": [
      "best score: 0.7578105473631592\n",
      "best parameters:  LogisticRegression(C=1, class_weight=None, dual=False, fit_intercept=True,\n",
      "                   intercept_scaling=1, l1_ratio=None, max_iter=100,\n",
      "                   multi_class='warn', n_jobs=None, penalty='l2',\n",
      "                   random_state=0, solver='lbfgs', tol=0.0001, verbose=0,\n",
      "                   warm_start=False)\n"
     ]
    }
   ],
   "source": [
    "# The best score and best parameters as per Grid search CV\n",
    "\n",
    "print('best score:', LG_rdcv.best_score_)\n",
    "print('best parameters: ', LG_rdcv.best_estimator_)"
   ]
  },
  {
   "cell_type": "code",
   "execution_count": 82,
   "metadata": {},
   "outputs": [
    {
     "data": {
      "text/plain": [
       "LogisticRegression(C=1, class_weight=None, dual=False, fit_intercept=True,\n",
       "                   intercept_scaling=1, l1_ratio=None, max_iter=100,\n",
       "                   multi_class='warn', n_jobs=None, penalty='l2',\n",
       "                   random_state=0, solver='lbfgs', tol=0.0001, verbose=0,\n",
       "                   warm_start=False)"
      ]
     },
     "execution_count": 82,
     "metadata": {},
     "output_type": "execute_result"
    }
   ],
   "source": [
    "# Retraining the model with the best paparmeters defined b Grid search CV\n",
    "\n",
    "LG_model = LogisticRegression(C=1, class_weight=None, dual=False, fit_intercept=True,\n",
    "                   intercept_scaling=1, l1_ratio=None, max_iter=100,\n",
    "                   multi_class='warn', n_jobs=None, penalty='l2',\n",
    "                   random_state=0, solver='lbfgs', tol=0.0001, verbose=0,\n",
    "                   warm_start=False)\n",
    "LG_model.fit(Scale_X_train_combined, y_train)"
   ]
  },
  {
   "cell_type": "code",
   "execution_count": 83,
   "metadata": {},
   "outputs": [
    {
     "data": {
      "text/plain": [
       "0.7821782178217822"
      ]
     },
     "execution_count": 83,
     "metadata": {},
     "output_type": "execute_result"
    }
   ],
   "source": [
    "# The new score of classifier after retraining on best estimators\n",
    "# The model score have increased with best parametrs\n",
    "\n",
    "LG_model.score(Scale_X_test_combined, y_test)\n"
   ]
  },
  {
   "cell_type": "code",
   "execution_count": 84,
   "metadata": {},
   "outputs": [],
   "source": [
    "# Predicting the test data with the trained Logistic Regression\n",
    "\n",
    "LG_pred=LG_model.predict(Scale_X_test_combined)\n"
   ]
  },
  {
   "cell_type": "code",
   "execution_count": 85,
   "metadata": {},
   "outputs": [
    {
     "name": "stdout",
     "output_type": "stream",
     "text": [
      "              precision    recall  f1-score   support\n",
      "\n",
      "    No Churn       0.79      0.79      0.79       364\n",
      "       Churn       0.78      0.77      0.77       343\n",
      "\n",
      "    accuracy                           0.78       707\n",
      "   macro avg       0.78      0.78      0.78       707\n",
      "weighted avg       0.78      0.78      0.78       707\n",
      "\n"
     ]
    }
   ],
   "source": [
    "# Creating the classification report to see the Precision, Recall and F1-score\n",
    "\n",
    "target_names = ['No Churn', 'Churn']\n",
    "print(classification_report(y_test, LG_pred, target_names=target_names))\n"
   ]
  },
  {
   "cell_type": "code",
   "execution_count": 86,
   "metadata": {},
   "outputs": [],
   "source": [
    "# Fitiitng the confusion matrix\n",
    "\n",
    "cm = confusion_matrix(y_test, LG_pred) \n",
    "cm_df = pd.DataFrame(cm,\n",
    "                     index = ['No Churn','Churn'], \n",
    "                     columns = ['No Churn','Churn'])"
   ]
  },
  {
   "cell_type": "code",
   "execution_count": 87,
   "metadata": {},
   "outputs": [
    {
     "data": {
      "image/png": "[encoded data removed]",
      "text/plain": [
       "<matplotlib.figure.Figure at 0x7f404d880b38>"
      ]
     },
     "metadata": {
      "needs_background": "light"
     },
     "output_type": "display_data"
    }
   ],
   "source": [
    "# Plot the confusion matrix\n",
    "\n",
    "plt.figure(figsize=(8,6))\n",
    "sns.heatmap(cm_df, annot=True,fmt='g',cmap='GnBu')\n",
    "plt.title('Logisstic Regression \\nAccuracy:{0:.3f}'.format(accuracy_score(y_test, LG_pred)))\n",
    "plt.ylabel('Given Values')\n",
    "plt.xlabel('Predicted Values')\n",
    "plt.show()"
   ]
  },
  {
   "cell_type": "code",
   "execution_count": 88,
   "metadata": {},
   "outputs": [],
   "source": [
    "# Making a list of models created with hypertuning for creating ROC curve.\n",
    "\n",
    "models = [\n",
    "{\n",
    "    'label': 'Logistic Regression',\n",
    "    'model': LG_model,\n",
    "},\n",
    "{\n",
    "    'label': 'Decision Tree',\n",
    "    'model': DT_model,\n",
    "},\n",
    "{\n",
    "    'label': 'Random Forest',\n",
    "    'model': RF_model,\n",
    "}\n",
    "]\n"
   ]
  },
  {
   "cell_type": "code",
   "execution_count": 89,
   "metadata": {},
   "outputs": [
    {
     "data": {
      "image/png": "[encoded data removed]",
      "text/plain": [
       "<matplotlib.figure.Figure at 0x7f404d7a42e8>"
      ]
     },
     "metadata": {
      "needs_background": "light"
     },
     "output_type": "display_data"
    }
   ],
   "source": [
    "# Plot the ROC curve.\n",
    "\n",
    "for m in models:\n",
    "    model = m['model'] \n",
    "    model.fit(Scale_X_train_combined, y_train) \n",
    "    y_pred=model.predict(Scale_X_test_combined) \n",
    "    fpr, tpr, thresholds = roc_curve(y_test, y_pred, pos_label=1)\n",
    "    roc_auc = metrics.auc(fpr, tpr)\n",
    "    plt.plot(fpr, tpr, label='%s AUC = %0.2f' % (m['label'], roc_auc))\n",
    "\n",
    "plt.plot([0, 1], [0, 1],'r--')\n",
    "plt.xlim([0.0, 1.0])\n",
    "plt.ylim([0.0, 1.05])\n",
    "plt.ylabel('Sensitivity(True Positive Rate)')\n",
    "plt.xlabel('1-Specificity(False Positive Rate)')\n",
    "plt.title('Receiver Operating Characteristic - ROC')\n",
    "plt.legend(loc=\"lower right\")\n",
    "plt.show()"
   ]
  },
  {
   "cell_type": "markdown",
   "metadata": {},
   "source": [
    "# Conclusion\n",
    "\n",
    "By Comparing the AUC result of different algorithms (logistic regression: 0.78, decision tree: 0.82, and random forest: 0.83), we can conclude that random forest is the best performing model with the AUC score of 0.83 and can be chosen for the marketing team to predict customer churn."
   ]
  },
  {
   "cell_type": "code",
   "execution_count": null,
   "metadata": {},
   "outputs": [],
   "source": []
  }
 ],
 "metadata": {
  "kernelspec": {
   "display_name": "Python 3",
   "language": "python",
   "name": "python3"
  },
  "language_info": {
   "codemirror_mode": {
    "name": "ipython",
    "version": 3
   },
   "file_extension": ".py",
   "mimetype": "text/x-python",
   "name": "python",
   "nbconvert_exporter": "python",
   "pygments_lexer": "ipython3",
   "version": "3.6.8"
  }
 },
 "nbformat": 4,
 "nbformat_minor": 2
}
